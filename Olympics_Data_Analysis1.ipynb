{
  "nbformat": 4,
  "nbformat_minor": 0,
  "metadata": {
    "colab": {
      "name": "Olympics Data Analysis.ipynb",
      "provenance": [],
      "collapsed_sections": []
    },
    "kernelspec": {
      "name": "python3",
      "display_name": "Python 3"
    },
    "language_info": {
      "name": "python"
    }
  },
  "cells": [
    {
      "cell_type": "code",
      "metadata": {
        "id": "chCFy7fu89py"
      },
      "source": [
        "import pandas as pd\n",
        "so = pd.read_csv(\"summer.csv\")"
      ],
      "execution_count": 3,
      "outputs": []
    },
    {
      "cell_type": "markdown",
      "metadata": {
        "id": "TqD1w8-W7O7Z"
      },
      "source": [
        "**Summer Olympics Data Analysis Assignment**\n",
        "\n",
        "1. In how many cities Summer Olympics is held so far?"
      ]
    },
    {
      "cell_type": "code",
      "metadata": {
        "id": "hBqClM3L8QC6",
        "colab": {
          "base_uri": "https://localhost:8080/"
        },
        "outputId": "3cf9bf1a-bef6-491d-de49-48ed2517fb3a"
      },
      "source": [
        "print(\"The number of cities where summer olympics was held :-\",len(so[\"City\"].unique()),\"\\n\")\n",
        "print(\"List of different cities:\",so[\"City\"].unique())"
      ],
      "execution_count": 12,
      "outputs": [
        {
          "output_type": "stream",
          "name": "stdout",
          "text": [
            "The number of cities where summer olympics was held :- 22 \n",
            "\n",
            "List of different cities: ['Athens' 'Paris' 'St Louis' 'London' 'Stockholm' 'Antwerp' 'Amsterdam'\n",
            " 'Los Angeles' 'Berlin' 'Helsinki' 'Melbourne / Stockholm' 'Rome' 'Tokyo'\n",
            " 'Mexico' 'Munich' 'Montreal' 'Moscow' 'Seoul' 'Barcelona' 'Atlanta'\n",
            " 'Sydney' 'Beijing']\n"
          ]
        }
      ]
    },
    {
      "cell_type": "markdown",
      "metadata": {
        "id": "BOnRv1KV8Rfd"
      },
      "source": [
        "2. Which sport is having most number of Gold Medals so far? (Top 5)"
      ]
    },
    {
      "cell_type": "code",
      "metadata": {
        "id": "I2PfDEE88P_Z",
        "colab": {
          "base_uri": "https://localhost:8080/",
          "height": 525
        },
        "outputId": "f37a8de2-8eb1-41ea-97d9-8d74096ee592"
      },
      "source": [
        "gold = so[so['Medal']==\"Gold\"]\n",
        "sport = []\n",
        "for s in gold['Sport'].unique():\n",
        "  sport.append([s , len(gold[gold['Sport'] == s])])\n",
        "sport = pd.DataFrame(sport, columns= [\"Sport\",\"Gold\"])\n",
        "sport = sport.sort_values(by = \"Gold\", ascending = False).head()\n",
        "print(sport,'\\n')\n",
        "sport.plot(x = \"Sport\", y = \"Gold\", kind = \"bar\", figsize = (7,5))\n"
      ],
      "execution_count": 5,
      "outputs": [
        {
          "output_type": "stream",
          "name": "stdout",
          "text": [
            "         Sport  Gold\n",
            "0     Aquatics  1421\n",
            "1    Athletics  1215\n",
            "17      Rowing   890\n",
            "4   Gymnastics   820\n",
            "3      Fencing   552 \n",
            "\n"
          ]
        },
        {
          "output_type": "execute_result",
          "data": {
            "text/plain": [
              "<matplotlib.axes._subplots.AxesSubplot at 0x7f065ce61090>"
            ]
          },
          "metadata": {},
          "execution_count": 5
        },
        {
          "output_type": "display_data",
          "data": {
            "image/png": "[encoded data removed]",
            "text/plain": [
              "<Figure size 504x360 with 1 Axes>"
            ]
          },
          "metadata": {
            "needs_background": "light"
          }
        }
      ]
    },
    {
      "cell_type": "markdown",
      "metadata": {
        "id": "aSwqsxAC8YFR"
      },
      "source": [
        "3. Which sport is having most number of medals so far? (Top 5)"
      ]
    },
    {
      "cell_type": "code",
      "metadata": {
        "id": "LVOT2rKo8P97",
        "colab": {
          "base_uri": "https://localhost:8080/",
          "height": 525
        },
        "outputId": "2624097b-8534-433b-e07f-e5eb60e9a503"
      },
      "source": [
        "sport1 = []\n",
        "for s in so['Sport'].unique():\n",
        "  sport1.append([s , len(so[so['Sport'] == s])])\n",
        "sport1 = pd.DataFrame(sport1, columns= [\"Sport\",\"Medal\"])\n",
        "sport1 = sport1.sort_values(by = \"Medal\", ascending = False).head()\n",
        "print(sport1,'\\n')\n",
        "sport1.plot(x = \"Sport\", y = \"Medal\", kind = \"bar\", figsize = (7,5))"
      ],
      "execution_count": 6,
      "outputs": [
        {
          "output_type": "stream",
          "name": "stdout",
          "text": [
            "         Sport  Medal\n",
            "0     Aquatics   4170\n",
            "1    Athletics   3638\n",
            "17      Rowing   2667\n",
            "4   Gymnastics   2307\n",
            "3      Fencing   1613 \n",
            "\n"
          ]
        },
        {
          "output_type": "execute_result",
          "data": {
            "text/plain": [
              "<matplotlib.axes._subplots.AxesSubplot at 0x7f0656fcb2d0>"
            ]
          },
          "metadata": {},
          "execution_count": 6
        },
        {
          "output_type": "display_data",
          "data": {
            "image/png": "[encoded data removed]",
            "text/plain": [
              "<Figure size 504x360 with 1 Axes>"
            ]
          },
          "metadata": {
            "needs_background": "light"
          }
        }
      ]
    },
    {
      "cell_type": "markdown",
      "metadata": {
        "id": "8rzZJRjJ8c3A"
      },
      "source": [
        "4. Which player has won most number of medals? (Top 5)"
      ]
    },
    {
      "cell_type": "code",
      "metadata": {
        "id": "GNCloLxu8P6n",
        "colab": {
          "base_uri": "https://localhost:8080/",
          "height": 584
        },
        "outputId": "4a1912c0-d635-42f8-fbec-4753f31f3cff"
      },
      "source": [
        "player = []\n",
        "for play in so['Athlete'].unique():\n",
        "  player.append([play , len(so[so['Athlete'] == play])])\n",
        "player = pd.DataFrame(player, columns= [\"Athlete\",\"Medal\"])\n",
        "player = player.sort_values(by = \"Medal\", ascending = False).head()\n",
        "print(player,'\\n')\n",
        "player.plot(x = \"Athlete\", y = \"Medal\", kind = \"bar\", figsize = (7,5))"
      ],
      "execution_count": 7,
      "outputs": [
        {
          "output_type": "stream",
          "name": "stdout",
          "text": [
            "                    Athlete  Medal\n",
            "18640       PHELPS, Michael     22\n",
            "7197       LATYNINA, Larisa     18\n",
            "9948     ANDRIANOV, Nikolay     15\n",
            "6591           ONO, Takashi     13\n",
            "5103   MANGIAROTTI, Edoardo     13 \n",
            "\n"
          ]
        },
        {
          "output_type": "execute_result",
          "data": {
            "text/plain": [
              "<matplotlib.axes._subplots.AxesSubplot at 0x7f0656928f50>"
            ]
          },
          "metadata": {},
          "execution_count": 7
        },
        {
          "output_type": "display_data",
          "data": {
            "image/png": "[encoded data removed]",
            "text/plain": [
              "<Figure size 504x360 with 1 Axes>"
            ]
          },
          "metadata": {
            "needs_background": "light"
          }
        }
      ]
    },
    {
      "cell_type": "markdown",
      "metadata": {
        "id": "poHK-t-E8jO5"
      },
      "source": [
        "5. Which player has won most number Gold Medals of medals? (Top 5)"
      ]
    },
    {
      "cell_type": "code",
      "metadata": {
        "id": "QyPGl0Ud8P4s",
        "colab": {
          "base_uri": "https://localhost:8080/",
          "height": 552
        },
        "outputId": "c10e9972-7349-4707-a65d-d2f25711d06a"
      },
      "source": [
        "gold = so[so['Medal']==\"Gold\"]\n",
        "player1 = []\n",
        "for ply in gold['Athlete'].unique():\n",
        "  player1.append([ply , len(gold[gold['Athlete'] == ply])])\n",
        "player1 = pd.DataFrame(player1, columns= [\"Athlete\",\"Gold\"])\n",
        "player1 = player1.sort_values(by = \"Gold\", ascending = False).head()\n",
        "print(player1,'\\n')\n",
        "player1.plot(x = \"Athlete\", y = \"Gold\", kind = \"bar\", figsize = (7,5))"
      ],
      "execution_count": 8,
      "outputs": [
        {
          "output_type": "stream",
          "name": "stdout",
          "text": [
            "               Athlete  Gold\n",
            "6851   PHELPS, Michael    18\n",
            "3320       SPITZ, Mark     9\n",
            "2714  LATYNINA, Larisa     9\n",
            "4630       LEWIS, Carl     9\n",
            "907       NURMI, Paavo     9 \n",
            "\n"
          ]
        },
        {
          "output_type": "execute_result",
          "data": {
            "text/plain": [
              "<matplotlib.axes._subplots.AxesSubplot at 0x7f0657321850>"
            ]
          },
          "metadata": {},
          "execution_count": 8
        },
        {
          "output_type": "display_data",
          "data": {
            "image/png": "[encoded data removed]",
            "text/plain": [
              "<Figure size 504x360 with 1 Axes>"
            ]
          },
          "metadata": {
            "needs_background": "light"
          }
        }
      ]
    },
    {
      "cell_type": "markdown",
      "metadata": {
        "id": "GJnKxtR_8n4z"
      },
      "source": [
        "6. In which year India won first Gold Medal in Summer Olympics?"
      ]
    },
    {
      "cell_type": "code",
      "metadata": {
        "id": "LFdXPSky8P1G",
        "colab": {
          "base_uri": "https://localhost:8080/"
        },
        "outputId": "b46195dd-8aa6-4a48-8ef8-6abbd127c2b2"
      },
      "source": [
        "india =so[so['Country']==\"IND\"]\n",
        "g = india[india[\"Medal\"]==\"Gold\"]\n",
        "year = []\n",
        "for i in g[\"Year\"].unique():\n",
        "  year.append(i)\n",
        "print(\"In\",year[0],\",India won first Gold Medal in Summer Olympics.\")"
      ],
      "execution_count": 9,
      "outputs": [
        {
          "output_type": "stream",
          "name": "stdout",
          "text": [
            "In 1928 ,India won first Gold Medal in Summer Olympics.\n"
          ]
        }
      ]
    },
    {
      "cell_type": "markdown",
      "metadata": {
        "id": "5ocrheab8rC8"
      },
      "source": [
        "7. Which event is most popular in terms on number of players? (Top 5)"
      ]
    },
    {
      "cell_type": "code",
      "metadata": {
        "id": "4erzkHC68Pzc",
        "colab": {
          "base_uri": "https://localhost:8080/",
          "height": 557
        },
        "outputId": "a65190e2-d640-45fb-98c9-1ba85b76470f"
      },
      "source": [
        "event = []\n",
        "for s in so['Event'].unique():\n",
        "  event.append([s , len(so[so['Event'] == s])])\n",
        "event = pd.DataFrame(event, columns= [\"Event\",\"Num of player\"])\n",
        "event = event.sort_values(by = \"Num of player\", ascending = False).head()\n",
        "print(event,'\\n')\n",
        "event.plot(x = \"Event\", y = \"Num of player\", kind = \"bar\", figsize = (7,5))"
      ],
      "execution_count": 10,
      "outputs": [
        {
          "output_type": "stream",
          "name": "stdout",
          "text": [
            "                Event  Num of player\n",
            "80           Football           1497\n",
            "176            Hockey           1422\n",
            "138  Team Competition           1147\n",
            "327        Basketball           1012\n",
            "337          Handball            973 \n",
            "\n"
          ]
        },
        {
          "output_type": "execute_result",
          "data": {
            "text/plain": [
              "<matplotlib.axes._subplots.AxesSubplot at 0x7f065691e290>"
            ]
          },
          "metadata": {},
          "execution_count": 10
        },
        {
          "output_type": "display_data",
          "data": {
            "image/png": "[encoded data removed]",
            "text/plain": [
              "<Figure size 504x360 with 1 Axes>"
            ]
          },
          "metadata": {
            "needs_background": "light"
          }
        }
      ]
    },
    {
      "cell_type": "markdown",
      "metadata": {
        "id": "FzB3X3c38ugL"
      },
      "source": [
        "8. Which sport is having most female Gold Medalists? (Top 5)"
      ]
    },
    {
      "cell_type": "code",
      "metadata": {
        "id": "N-uxg1YC8PrX",
        "colab": {
          "base_uri": "https://localhost:8080/",
          "height": 525
        },
        "outputId": "b442df66-127a-48ee-cac1-7c043ffd47e4"
      },
      "source": [
        "female =so[so['Gender']==\"Women\"]\n",
        "g_f = female[female[\"Medal\"]==\"Gold\"]\n",
        "num =[]\n",
        "for i in g_f[\"Sport\"].unique():\n",
        "  num.append([i , len(g_f[g_f[\"Sport\"]==i])])\n",
        "num = pd.DataFrame(num, columns= [\"Sport\",\"Num of player\"])\n",
        "num = num.sort_values(by = \"Num of player\", ascending = False).head()\n",
        "print(num,'\\n')\n",
        "num.plot(x = \"Sport\", y = \"Num of player\", kind = \"bar\", figsize = (7,5))"
      ],
      "execution_count": 11,
      "outputs": [
        {
          "output_type": "stream",
          "name": "stdout",
          "text": [
            "         Sport  Num of player\n",
            "4     Aquatics            589\n",
            "7    Athletics            389\n",
            "8   Gymnastics            268\n",
            "14      Rowing            217\n",
            "11  Volleyball            166 \n",
            "\n"
          ]
        },
        {
          "output_type": "execute_result",
          "data": {
            "text/plain": [
              "<matplotlib.axes._subplots.AxesSubplot at 0x7f06567c48d0>"
            ]
          },
          "metadata": {},
          "execution_count": 11
        },
        {
          "output_type": "display_data",
          "data": {
            "image/png": "[encoded data removed]",
            "text/plain": [
              "<Figure size 504x360 with 1 Axes>"
            ]
          },
          "metadata": {
            "needs_background": "light"
          }
        }
      ]
    }
  ]
}