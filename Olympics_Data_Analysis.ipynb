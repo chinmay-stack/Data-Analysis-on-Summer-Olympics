{
  "nbformat": 4,
  "nbformat_minor": 0,
  "metadata": {
    "colab": {
      "name": "Olympics Data Analysis.ipynb",
      "provenance": [],
      "collapsed_sections": []
    },
    "kernelspec": {
      "name": "python3",
      "display_name": "Python 3"
    },
    "language_info": {
      "name": "python"
    }
  },
  "cells": [
    {
      "cell_type": "code",
      "metadata": {
        "id": "chCFy7fu89py"
      },
      "source": [
        "import pandas as pd\n",
        "so = pd.read_csv(\"summer.csv\")"
      ],
      "execution_count": 136,
      "outputs": []
    },
    {
      "cell_type": "markdown",
      "metadata": {
        "id": "TqD1w8-W7O7Z"
      },
      "source": [
        "**Summer Olympics Data Analysis Assignment**\n",
        "\n",
        "1. In how many cities Summer Olympics is held so far?"
      ]
    },
    {
      "cell_type": "code",
      "metadata": {
        "id": "hBqClM3L8QC6"
      },
      "source": [
        "print(\"The number of cities where summer olympics was held\",len(so[\"City\"].unique()),\"\\n\")\n",
        "print(\"List of different cities:\",so[\"City\"].unique())"
      ],
      "execution_count": null,
      "outputs": []
    },
    {
      "cell_type": "markdown",
      "metadata": {
        "id": "BOnRv1KV8Rfd"
      },
      "source": [
        "2. Which sport is having most number of Gold Medals so far? (Top 5)"
      ]
    },
    {
      "cell_type": "code",
      "metadata": {
        "id": "I2PfDEE88P_Z"
      },
      "source": [
        "gold = so[so['Medal']==\"Gold\"]\n",
        "sport = []\n",
        "for s in gold['Sport'].unique():\n",
        "  sport.append([s , len(gold[gold['Sport'] == s])])\n",
        "sport = pd.DataFrame(sport, columns= [\"Sport\",\"Gold\"])\n",
        "sport = sport.sort_values(by = \"Gold\", ascending = False).head()\n",
        "print(sport,'\\n')\n",
        "sport.plot(x = \"Sport\", y = \"Gold\", kind = \"bar\", figsize = (7,5))\n"
      ],
      "execution_count": null,
      "outputs": []
    },
    {
      "cell_type": "markdown",
      "metadata": {
        "id": "aSwqsxAC8YFR"
      },
      "source": [
        "3. Which sport is having most number of medals so far? (Top 5)"
      ]
    },
    {
      "cell_type": "code",
      "metadata": {
        "id": "LVOT2rKo8P97"
      },
      "source": [
        "sport1 = []\n",
        "for s in so['Sport'].unique():\n",
        "  sport1.append([s , len(so[so['Sport'] == s])])\n",
        "sport1 = pd.DataFrame(sport1, columns= [\"Sport\",\"Medal\"])\n",
        "sport1 = sport1.sort_values(by = \"Medal\", ascending = False).head()\n",
        "print(sport1,'\\n')\n",
        "sport1.plot(x = \"Sport\", y = \"Medal\", kind = \"bar\", figsize = (7,5))"
      ],
      "execution_count": null,
      "outputs": []
    },
    {
      "cell_type": "markdown",
      "metadata": {
        "id": "8rzZJRjJ8c3A"
      },
      "source": [
        "4. Which player has won most number of medals? (Top 5)"
      ]
    },
    {
      "cell_type": "code",
      "metadata": {
        "id": "GNCloLxu8P6n"
      },
      "source": [
        "player = []\n",
        "for play in so['Athlete'].unique():\n",
        "  player.append([play , len(so[so['Athlete'] == play])])\n",
        "player = pd.DataFrame(player, columns= [\"Athlete\",\"Medal\"])\n",
        "player = player.sort_values(by = \"Medal\", ascending = False).head()\n",
        "print(player,'\\n')\n",
        "player.plot(x = \"Athlete\", y = \"Medal\", kind = \"bar\", figsize = (7,5))"
      ],
      "execution_count": null,
      "outputs": []
    },
    {
      "cell_type": "markdown",
      "metadata": {
        "id": "poHK-t-E8jO5"
      },
      "source": [
        "5. Which player has won most number Gold Medals of medals? (Top 5)"
      ]
    },
    {
      "cell_type": "code",
      "metadata": {
        "id": "QyPGl0Ud8P4s"
      },
      "source": [
        "gold = so[so['Medal']==\"Gold\"]\n",
        "player1 = []\n",
        "for ply in gold['Athlete'].unique():\n",
        "  player1.append([ply , len(gold[gold['Athlete'] == ply])])\n",
        "player1 = pd.DataFrame(player1, columns= [\"Athlete\",\"Gold\"])\n",
        "player1 = player1.sort_values(by = \"Gold\", ascending = False).head()\n",
        "print(player1,'\\n')\n",
        "player1.plot(x = \"Athlete\", y = \"Gold\", kind = \"bar\", figsize = (7,5))"
      ],
      "execution_count": null,
      "outputs": []
    },
    {
      "cell_type": "markdown",
      "metadata": {
        "id": "GJnKxtR_8n4z"
      },
      "source": [
        "6. In which year India won first Gold Medal in Summer Olympics?"
      ]
    },
    {
      "cell_type": "code",
      "metadata": {
        "id": "LFdXPSky8P1G"
      },
      "source": [
        "india =so[so['Country']==\"IND\"]\n",
        "g = india[india[\"Medal\"]==\"Gold\"]\n",
        "year = []\n",
        "for i in g[\"Year\"].unique():\n",
        "  year.append(i)\n",
        "print(\"In\",year[0],\",India won first Gold Medal in Summer Olympics.\")"
      ],
      "execution_count": null,
      "outputs": []
    },
    {
      "cell_type": "markdown",
      "metadata": {
        "id": "5ocrheab8rC8"
      },
      "source": [
        "7. Which event is most popular in terms on number of players? (Top 5)"
      ]
    },
    {
      "cell_type": "code",
      "metadata": {
        "id": "4erzkHC68Pzc"
      },
      "source": [
        "event = []\n",
        "for s in so['Event'].unique():\n",
        "  event.append([s , len(so[so['Event'] == s])])\n",
        "event = pd.DataFrame(event, columns= [\"Event\",\"Num of player\"])\n",
        "event = event.sort_values(by = \"Num of player\", ascending = False).head()\n",
        "print(event,'\\n')\n",
        "event.plot(x = \"Event\", y = \"Num of player\", kind = \"bar\", figsize = (7,5))"
      ],
      "execution_count": null,
      "outputs": []
    },
    {
      "cell_type": "markdown",
      "metadata": {
        "id": "FzB3X3c38ugL"
      },
      "source": [
        "8. Which sport is having most female Gold Medalists? (Top 5)"
      ]
    },
    {
      "cell_type": "code",
      "metadata": {
        "id": "N-uxg1YC8PrX"
      },
      "source": [
        "female =so[so['Gender']==\"Women\"]\n",
        "g_f = female[female[\"Medal\"]==\"Gold\"]\n",
        "num =[]\n",
        "for i in g_f[\"Sport\"].unique():\n",
        "  num.append([i , len(g_f[g_f[\"Sport\"]==i])])\n",
        "num = pd.DataFrame(num, columns= [\"Sport\",\"Num of player\"])\n",
        "num = num.sort_values(by = \"Num of player\", ascending = False).head()\n",
        "print(num,'\\n')\n",
        "num.plot(x = \"Sport\", y = \"Num of player\", kind = \"bar\", figsize = (7,5))"
      ],
      "execution_count": null,
      "outputs": []
    }
  ]
}